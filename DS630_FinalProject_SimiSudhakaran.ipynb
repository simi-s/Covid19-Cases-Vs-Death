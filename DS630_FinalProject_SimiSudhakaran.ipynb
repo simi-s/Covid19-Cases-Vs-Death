{
 "cells": [
  {
   "cell_type": "markdown",
   "metadata": {},
   "source": [
    "# DS630(MACHINE LEARNING) FINAL PROJECT\n",
    "## -SIMI SUDHAKARAN"
   ]
  },
  {
   "cell_type": "code",
   "execution_count": 21,
   "metadata": {},
   "outputs": [],
   "source": [
    "# IMPORT THE NECESSARY LIBRARIES\n",
    "\n",
    "import numpy as np\n",
    "import pandas as pd\n",
    "import matplotlib.pyplot as plt\n",
    "import seaborn as sns\n",
    "%matplotlib inline\n",
    "\n",
    "from sklearn.preprocessing import StandardScaler\n",
    "from sklearn.decomposition import PCA\n",
    "from sklearn.model_selection import GridSearchCV\n",
    "from sklearn.model_selection import train_test_split\n",
    "from sklearn.linear_model import LogisticRegression\n",
    "from sklearn.neighbors import KNeighborsClassifier\n",
    "from sklearn.metrics import accuracy_score, confusion_matrix, precision_recall_fscore_support, classification_report\n",
    "from sklearn.svm import SVC\n",
    "from sklearn.tree import DecisionTreeClassifier\n",
    "from sklearn.ensemble import RandomForestClassifier\n",
    "from sklearn.ensemble import AdaBoostClassifier\n",
    "\n"
   ]
  },
  {
   "cell_type": "code",
   "execution_count": 4,
   "metadata": {},
   "outputs": [
    {
     "data": {
      "text/html": [
       "<div>\n",
       "<style scoped>\n",
       "    .dataframe tbody tr th:only-of-type {\n",
       "        vertical-align: middle;\n",
       "    }\n",
       "\n",
       "    .dataframe tbody tr th {\n",
       "        vertical-align: top;\n",
       "    }\n",
       "\n",
       "    .dataframe thead th {\n",
       "        text-align: right;\n",
       "    }\n",
       "</style>\n",
       "<table border=\"1\" class=\"dataframe\">\n",
       "  <thead>\n",
       "    <tr style=\"text-align: right;\">\n",
       "      <th></th>\n",
       "      <th>PEOPLE_POSITIVE_CASES_COUNT</th>\n",
       "      <th>COUNTY_NAME</th>\n",
       "      <th>PROVINCE_STATE_NAME</th>\n",
       "      <th>REPORT_DATE</th>\n",
       "      <th>CONTINENT_NAME</th>\n",
       "      <th>DATA_SOURCE_NAME</th>\n",
       "      <th>PEOPLE_DEATH_NEW_COUNT</th>\n",
       "      <th>COUNTY_FIPS_NUMBER</th>\n",
       "      <th>COUNTRY_ALPHA_3_CODE</th>\n",
       "      <th>COUNTRY_SHORT_NAME</th>\n",
       "      <th>COUNTRY_ALPHA_2_CODE</th>\n",
       "      <th>PEOPLE_POSITIVE_NEW_CASES_COUNT</th>\n",
       "      <th>PEOPLE_DEATH_COUNT</th>\n",
       "      <th>IS_COVID_PRESENT</th>\n",
       "      <th>ARE_THERE_NEW_COVID_DEATHS</th>\n",
       "    </tr>\n",
       "  </thead>\n",
       "  <tbody>\n",
       "    <tr>\n",
       "      <th>0</th>\n",
       "      <td>9271</td>\n",
       "      <td>Marshall</td>\n",
       "      <td>Alabama</td>\n",
       "      <td>2021-01-01</td>\n",
       "      <td>America</td>\n",
       "      <td>New York Times</td>\n",
       "      <td>0</td>\n",
       "      <td>1095.0</td>\n",
       "      <td>USA</td>\n",
       "      <td>United States</td>\n",
       "      <td>US</td>\n",
       "      <td>82</td>\n",
       "      <td>86</td>\n",
       "      <td>True</td>\n",
       "      <td>False</td>\n",
       "    </tr>\n",
       "    <tr>\n",
       "      <th>1</th>\n",
       "      <td>1517</td>\n",
       "      <td>Barbour</td>\n",
       "      <td>Alabama</td>\n",
       "      <td>2021-01-01</td>\n",
       "      <td>America</td>\n",
       "      <td>New York Times</td>\n",
       "      <td>1</td>\n",
       "      <td>1005.0</td>\n",
       "      <td>USA</td>\n",
       "      <td>United States</td>\n",
       "      <td>US</td>\n",
       "      <td>3</td>\n",
       "      <td>33</td>\n",
       "      <td>True</td>\n",
       "      <td>True</td>\n",
       "    </tr>\n",
       "    <tr>\n",
       "      <th>2</th>\n",
       "      <td>1522</td>\n",
       "      <td>Butler</td>\n",
       "      <td>Alabama</td>\n",
       "      <td>2021-01-01</td>\n",
       "      <td>America</td>\n",
       "      <td>New York Times</td>\n",
       "      <td>0</td>\n",
       "      <td>1013.0</td>\n",
       "      <td>USA</td>\n",
       "      <td>United States</td>\n",
       "      <td>US</td>\n",
       "      <td>14</td>\n",
       "      <td>45</td>\n",
       "      <td>True</td>\n",
       "      <td>False</td>\n",
       "    </tr>\n",
       "    <tr>\n",
       "      <th>3</th>\n",
       "      <td>2418</td>\n",
       "      <td>Clarke</td>\n",
       "      <td>Alabama</td>\n",
       "      <td>2021-01-01</td>\n",
       "      <td>America</td>\n",
       "      <td>New York Times</td>\n",
       "      <td>1</td>\n",
       "      <td>1025.0</td>\n",
       "      <td>USA</td>\n",
       "      <td>United States</td>\n",
       "      <td>US</td>\n",
       "      <td>28</td>\n",
       "      <td>26</td>\n",
       "      <td>True</td>\n",
       "      <td>True</td>\n",
       "    </tr>\n",
       "    <tr>\n",
       "      <th>4</th>\n",
       "      <td>1756</td>\n",
       "      <td>Pickens</td>\n",
       "      <td>Alabama</td>\n",
       "      <td>2021-01-01</td>\n",
       "      <td>America</td>\n",
       "      <td>New York Times</td>\n",
       "      <td>0</td>\n",
       "      <td>1107.0</td>\n",
       "      <td>USA</td>\n",
       "      <td>United States</td>\n",
       "      <td>US</td>\n",
       "      <td>22</td>\n",
       "      <td>26</td>\n",
       "      <td>True</td>\n",
       "      <td>False</td>\n",
       "    </tr>\n",
       "  </tbody>\n",
       "</table>\n",
       "</div>"
      ],
      "text/plain": [
       "   PEOPLE_POSITIVE_CASES_COUNT COUNTY_NAME PROVINCE_STATE_NAME REPORT_DATE  \\\n",
       "0                         9271    Marshall             Alabama  2021-01-01   \n",
       "1                         1517     Barbour             Alabama  2021-01-01   \n",
       "2                         1522      Butler             Alabama  2021-01-01   \n",
       "3                         2418      Clarke             Alabama  2021-01-01   \n",
       "4                         1756     Pickens             Alabama  2021-01-01   \n",
       "\n",
       "  CONTINENT_NAME DATA_SOURCE_NAME  PEOPLE_DEATH_NEW_COUNT  COUNTY_FIPS_NUMBER  \\\n",
       "0        America   New York Times                       0              1095.0   \n",
       "1        America   New York Times                       1              1005.0   \n",
       "2        America   New York Times                       0              1013.0   \n",
       "3        America   New York Times                       1              1025.0   \n",
       "4        America   New York Times                       0              1107.0   \n",
       "\n",
       "  COUNTRY_ALPHA_3_CODE COUNTRY_SHORT_NAME COUNTRY_ALPHA_2_CODE  \\\n",
       "0                  USA      United States                   US   \n",
       "1                  USA      United States                   US   \n",
       "2                  USA      United States                   US   \n",
       "3                  USA      United States                   US   \n",
       "4                  USA      United States                   US   \n",
       "\n",
       "   PEOPLE_POSITIVE_NEW_CASES_COUNT  PEOPLE_DEATH_COUNT  IS_COVID_PRESENT  \\\n",
       "0                               82                  86              True   \n",
       "1                                3                  33              True   \n",
       "2                               14                  45              True   \n",
       "3                               28                  26              True   \n",
       "4                               22                  26              True   \n",
       "\n",
       "   ARE_THERE_NEW_COVID_DEATHS  \n",
       "0                       False  \n",
       "1                        True  \n",
       "2                       False  \n",
       "3                        True  \n",
       "4                       False  "
      ]
     },
     "execution_count": 4,
     "metadata": {},
     "output_type": "execute_result"
    }
   ],
   "source": [
    "# IMPORT THE DATASET\n",
    "\n",
    "df = pd.read_excel('CovidDeathUS2021.xlsx')\n",
    "df.head()"
   ]
  },
  {
   "cell_type": "code",
   "execution_count": 5,
   "metadata": {},
   "outputs": [
    {
     "name": "stdout",
     "output_type": "stream",
     "text": [
      "<class 'pandas.core.frame.DataFrame'>\n",
      "RangeIndex: 248083 entries, 0 to 248082\n",
      "Data columns (total 15 columns):\n",
      " #   Column                           Non-Null Count   Dtype         \n",
      "---  ------                           --------------   -----         \n",
      " 0   PEOPLE_POSITIVE_CASES_COUNT      248083 non-null  int64         \n",
      " 1   COUNTY_NAME                      248083 non-null  object        \n",
      " 2   PROVINCE_STATE_NAME              248083 non-null  object        \n",
      " 3   REPORT_DATE                      248083 non-null  datetime64[ns]\n",
      " 4   CONTINENT_NAME                   248083 non-null  object        \n",
      " 5   DATA_SOURCE_NAME                 248083 non-null  object        \n",
      " 6   PEOPLE_DEATH_NEW_COUNT           248083 non-null  int64         \n",
      " 7   COUNTY_FIPS_NUMBER               244654 non-null  float64       \n",
      " 8   COUNTRY_ALPHA_3_CODE             248083 non-null  object        \n",
      " 9   COUNTRY_SHORT_NAME               248083 non-null  object        \n",
      " 10  COUNTRY_ALPHA_2_CODE             248083 non-null  object        \n",
      " 11  PEOPLE_POSITIVE_NEW_CASES_COUNT  248083 non-null  int64         \n",
      " 12  PEOPLE_DEATH_COUNT               248083 non-null  int64         \n",
      " 13  IS_COVID_PRESENT                 248083 non-null  bool          \n",
      " 14  ARE_THERE_NEW_COVID_DEATHS       248083 non-null  bool          \n",
      "dtypes: bool(2), datetime64[ns](1), float64(1), int64(4), object(7)\n",
      "memory usage: 25.1+ MB\n"
     ]
    }
   ],
   "source": [
    "# WHOLE INFORMATION OF THE DATASET\n",
    "df.info()"
   ]
  },
  {
   "cell_type": "code",
   "execution_count": 6,
   "metadata": {},
   "outputs": [],
   "source": [
    "# DROP IRRELEVANT COLUMNS\n",
    "df_filtered = df.drop(columns=['COUNTY_NAME','PROVINCE_STATE_NAME','REPORT_DATE','CONTINENT_NAME','DATA_SOURCE_NAME',\n",
    "         'COUNTY_FIPS_NUMBER','COUNTRY_ALPHA_3_CODE','COUNTRY_SHORT_NAME','COUNTRY_ALPHA_2_CODE'])"
   ]
  },
  {
   "cell_type": "code",
   "execution_count": 7,
   "metadata": {
    "scrolled": true
   },
   "outputs": [
    {
     "data": {
      "text/html": [
       "<div>\n",
       "<style scoped>\n",
       "    .dataframe tbody tr th:only-of-type {\n",
       "        vertical-align: middle;\n",
       "    }\n",
       "\n",
       "    .dataframe tbody tr th {\n",
       "        vertical-align: top;\n",
       "    }\n",
       "\n",
       "    .dataframe thead th {\n",
       "        text-align: right;\n",
       "    }\n",
       "</style>\n",
       "<table border=\"1\" class=\"dataframe\">\n",
       "  <thead>\n",
       "    <tr style=\"text-align: right;\">\n",
       "      <th></th>\n",
       "      <th>PEOPLE_POSITIVE_CASES_COUNT</th>\n",
       "      <th>PEOPLE_DEATH_NEW_COUNT</th>\n",
       "      <th>PEOPLE_POSITIVE_NEW_CASES_COUNT</th>\n",
       "      <th>PEOPLE_DEATH_COUNT</th>\n",
       "    </tr>\n",
       "  </thead>\n",
       "  <tbody>\n",
       "    <tr>\n",
       "      <th>count</th>\n",
       "      <td>2.480830e+05</td>\n",
       "      <td>248083.000000</td>\n",
       "      <td>248083.000000</td>\n",
       "      <td>248083.000000</td>\n",
       "    </tr>\n",
       "    <tr>\n",
       "      <th>mean</th>\n",
       "      <td>8.834160e+03</td>\n",
       "      <td>0.562425</td>\n",
       "      <td>31.143545</td>\n",
       "      <td>162.028829</td>\n",
       "    </tr>\n",
       "    <tr>\n",
       "      <th>std</th>\n",
       "      <td>3.862826e+04</td>\n",
       "      <td>5.082005</td>\n",
       "      <td>210.108493</td>\n",
       "      <td>907.132052</td>\n",
       "    </tr>\n",
       "    <tr>\n",
       "      <th>min</th>\n",
       "      <td>0.000000e+00</td>\n",
       "      <td>-1009.000000</td>\n",
       "      <td>-8855.000000</td>\n",
       "      <td>0.000000</td>\n",
       "    </tr>\n",
       "    <tr>\n",
       "      <th>25%</th>\n",
       "      <td>8.520000e+02</td>\n",
       "      <td>0.000000</td>\n",
       "      <td>0.000000</td>\n",
       "      <td>13.000000</td>\n",
       "    </tr>\n",
       "    <tr>\n",
       "      <th>50%</th>\n",
       "      <td>2.062000e+03</td>\n",
       "      <td>0.000000</td>\n",
       "      <td>3.000000</td>\n",
       "      <td>38.000000</td>\n",
       "    </tr>\n",
       "    <tr>\n",
       "      <th>75%</th>\n",
       "      <td>5.470000e+03</td>\n",
       "      <td>0.000000</td>\n",
       "      <td>15.000000</td>\n",
       "      <td>93.000000</td>\n",
       "    </tr>\n",
       "    <tr>\n",
       "      <th>max</th>\n",
       "      <td>1.235783e+06</td>\n",
       "      <td>930.000000</td>\n",
       "      <td>19980.000000</td>\n",
       "      <td>32786.000000</td>\n",
       "    </tr>\n",
       "  </tbody>\n",
       "</table>\n",
       "</div>"
      ],
      "text/plain": [
       "       PEOPLE_POSITIVE_CASES_COUNT  PEOPLE_DEATH_NEW_COUNT  \\\n",
       "count                 2.480830e+05           248083.000000   \n",
       "mean                  8.834160e+03                0.562425   \n",
       "std                   3.862826e+04                5.082005   \n",
       "min                   0.000000e+00            -1009.000000   \n",
       "25%                   8.520000e+02                0.000000   \n",
       "50%                   2.062000e+03                0.000000   \n",
       "75%                   5.470000e+03                0.000000   \n",
       "max                   1.235783e+06              930.000000   \n",
       "\n",
       "       PEOPLE_POSITIVE_NEW_CASES_COUNT  PEOPLE_DEATH_COUNT  \n",
       "count                    248083.000000       248083.000000  \n",
       "mean                         31.143545          162.028829  \n",
       "std                         210.108493          907.132052  \n",
       "min                       -8855.000000            0.000000  \n",
       "25%                           0.000000           13.000000  \n",
       "50%                           3.000000           38.000000  \n",
       "75%                          15.000000           93.000000  \n",
       "max                       19980.000000        32786.000000  "
      ]
     },
     "execution_count": 7,
     "metadata": {},
     "output_type": "execute_result"
    }
   ],
   "source": [
    "# 5 POINT SUMMARY OF THE DATASET\n",
    "df_filtered.describe()"
   ]
  },
  {
   "cell_type": "code",
   "execution_count": 8,
   "metadata": {},
   "outputs": [
    {
     "data": {
      "text/plain": [
       "0.5624246723878702"
      ]
     },
     "execution_count": 8,
     "metadata": {},
     "output_type": "execute_result"
    }
   ],
   "source": [
    "# NEW AVERAGE DEATH COUNT PER DAY\n",
    "df_filtered['PEOPLE_DEATH_NEW_COUNT'].mean()"
   ]
  },
  {
   "cell_type": "code",
   "execution_count": 9,
   "metadata": {},
   "outputs": [
    {
     "data": {
      "text/plain": [
       "162.0288290612416"
      ]
     },
     "execution_count": 9,
     "metadata": {},
     "output_type": "execute_result"
    }
   ],
   "source": [
    "# TOTAL AVERAGE DEATH COUNT\n",
    "df_filtered['PEOPLE_DEATH_COUNT'].mean()"
   ]
  },
  {
   "cell_type": "code",
   "execution_count": 10,
   "metadata": {},
   "outputs": [
    {
     "data": {
      "text/html": [
       "<div>\n",
       "<style scoped>\n",
       "    .dataframe tbody tr th:only-of-type {\n",
       "        vertical-align: middle;\n",
       "    }\n",
       "\n",
       "    .dataframe tbody tr th {\n",
       "        vertical-align: top;\n",
       "    }\n",
       "\n",
       "    .dataframe thead th {\n",
       "        text-align: right;\n",
       "    }\n",
       "</style>\n",
       "<table border=\"1\" class=\"dataframe\">\n",
       "  <thead>\n",
       "    <tr style=\"text-align: right;\">\n",
       "      <th></th>\n",
       "      <th>PEOPLE_POSITIVE_CASES_COUNT</th>\n",
       "      <th>PEOPLE_DEATH_NEW_COUNT</th>\n",
       "      <th>PEOPLE_POSITIVE_NEW_CASES_COUNT</th>\n",
       "      <th>PEOPLE_DEATH_COUNT</th>\n",
       "      <th>IS_COVID_PRESENT</th>\n",
       "      <th>ARE_THERE_NEW_COVID_DEATHS</th>\n",
       "    </tr>\n",
       "  </thead>\n",
       "  <tbody>\n",
       "    <tr>\n",
       "      <th>PEOPLE_POSITIVE_CASES_COUNT</th>\n",
       "      <td>1.000000</td>\n",
       "      <td>0.544253</td>\n",
       "      <td>0.607500</td>\n",
       "      <td>0.908214</td>\n",
       "      <td>0.097775</td>\n",
       "      <td>0.237220</td>\n",
       "    </tr>\n",
       "    <tr>\n",
       "      <th>PEOPLE_DEATH_NEW_COUNT</th>\n",
       "      <td>0.544253</td>\n",
       "      <td>1.000000</td>\n",
       "      <td>0.619967</td>\n",
       "      <td>0.492901</td>\n",
       "      <td>0.065249</td>\n",
       "      <td>0.254520</td>\n",
       "    </tr>\n",
       "    <tr>\n",
       "      <th>PEOPLE_POSITIVE_NEW_CASES_COUNT</th>\n",
       "      <td>0.607500</td>\n",
       "      <td>0.619967</td>\n",
       "      <td>1.000000</td>\n",
       "      <td>0.594284</td>\n",
       "      <td>0.100287</td>\n",
       "      <td>0.205482</td>\n",
       "    </tr>\n",
       "    <tr>\n",
       "      <th>PEOPLE_DEATH_COUNT</th>\n",
       "      <td>0.908214</td>\n",
       "      <td>0.492901</td>\n",
       "      <td>0.594284</td>\n",
       "      <td>1.000000</td>\n",
       "      <td>0.076284</td>\n",
       "      <td>0.203161</td>\n",
       "    </tr>\n",
       "    <tr>\n",
       "      <th>IS_COVID_PRESENT</th>\n",
       "      <td>0.097775</td>\n",
       "      <td>0.065249</td>\n",
       "      <td>0.100287</td>\n",
       "      <td>0.076284</td>\n",
       "      <td>1.000000</td>\n",
       "      <td>0.230909</td>\n",
       "    </tr>\n",
       "    <tr>\n",
       "      <th>ARE_THERE_NEW_COVID_DEATHS</th>\n",
       "      <td>0.237220</td>\n",
       "      <td>0.254520</td>\n",
       "      <td>0.205482</td>\n",
       "      <td>0.203161</td>\n",
       "      <td>0.230909</td>\n",
       "      <td>1.000000</td>\n",
       "    </tr>\n",
       "  </tbody>\n",
       "</table>\n",
       "</div>"
      ],
      "text/plain": [
       "                                 PEOPLE_POSITIVE_CASES_COUNT  \\\n",
       "PEOPLE_POSITIVE_CASES_COUNT                         1.000000   \n",
       "PEOPLE_DEATH_NEW_COUNT                              0.544253   \n",
       "PEOPLE_POSITIVE_NEW_CASES_COUNT                     0.607500   \n",
       "PEOPLE_DEATH_COUNT                                  0.908214   \n",
       "IS_COVID_PRESENT                                    0.097775   \n",
       "ARE_THERE_NEW_COVID_DEATHS                          0.237220   \n",
       "\n",
       "                                 PEOPLE_DEATH_NEW_COUNT  \\\n",
       "PEOPLE_POSITIVE_CASES_COUNT                    0.544253   \n",
       "PEOPLE_DEATH_NEW_COUNT                         1.000000   \n",
       "PEOPLE_POSITIVE_NEW_CASES_COUNT                0.619967   \n",
       "PEOPLE_DEATH_COUNT                             0.492901   \n",
       "IS_COVID_PRESENT                               0.065249   \n",
       "ARE_THERE_NEW_COVID_DEATHS                     0.254520   \n",
       "\n",
       "                                 PEOPLE_POSITIVE_NEW_CASES_COUNT  \\\n",
       "PEOPLE_POSITIVE_CASES_COUNT                             0.607500   \n",
       "PEOPLE_DEATH_NEW_COUNT                                  0.619967   \n",
       "PEOPLE_POSITIVE_NEW_CASES_COUNT                         1.000000   \n",
       "PEOPLE_DEATH_COUNT                                      0.594284   \n",
       "IS_COVID_PRESENT                                        0.100287   \n",
       "ARE_THERE_NEW_COVID_DEATHS                              0.205482   \n",
       "\n",
       "                                 PEOPLE_DEATH_COUNT  IS_COVID_PRESENT  \\\n",
       "PEOPLE_POSITIVE_CASES_COUNT                0.908214          0.097775   \n",
       "PEOPLE_DEATH_NEW_COUNT                     0.492901          0.065249   \n",
       "PEOPLE_POSITIVE_NEW_CASES_COUNT            0.594284          0.100287   \n",
       "PEOPLE_DEATH_COUNT                         1.000000          0.076284   \n",
       "IS_COVID_PRESENT                           0.076284          1.000000   \n",
       "ARE_THERE_NEW_COVID_DEATHS                 0.203161          0.230909   \n",
       "\n",
       "                                 ARE_THERE_NEW_COVID_DEATHS  \n",
       "PEOPLE_POSITIVE_CASES_COUNT                        0.237220  \n",
       "PEOPLE_DEATH_NEW_COUNT                             0.254520  \n",
       "PEOPLE_POSITIVE_NEW_CASES_COUNT                    0.205482  \n",
       "PEOPLE_DEATH_COUNT                                 0.203161  \n",
       "IS_COVID_PRESENT                                   0.230909  \n",
       "ARE_THERE_NEW_COVID_DEATHS                         1.000000  "
      ]
     },
     "execution_count": 10,
     "metadata": {},
     "output_type": "execute_result"
    }
   ],
   "source": [
    "# CORRELATION BETWEEN THE DIFFERENT FEATURES\n",
    "df_filtered.corr()"
   ]
  },
  {
   "cell_type": "code",
   "execution_count": 11,
   "metadata": {},
   "outputs": [
    {
     "data": {
      "text/plain": [
       "Text(0.5, 1.0, 'US Covid19(2021) : Correlation between the different features')"
      ]
     },
     "execution_count": 11,
     "metadata": {},
     "output_type": "execute_result"
    },
    {
     "data": {
      "image/png": "[encoded data removed]",
      "text/plain": [
       "<Figure size 720x720 with 2 Axes>"
      ]
     },
     "metadata": {
      "needs_background": "light"
     },
     "output_type": "display_data"
    }
   ],
   "source": [
    "# LOTTING THE FEATURE CORRELATION\n",
    "correlation = df_filtered.corr()\n",
    "plt.figure(figsize=(10,10))\n",
    "sns.heatmap(correlation, vmax=1, square = True, annot=True, cmap = 'viridis')\n",
    "plt.title(\"US Covid19(2021) : Correlation between the different features\")"
   ]
  },
  {
   "cell_type": "code",
   "execution_count": 12,
   "metadata": {
    "scrolled": true
   },
   "outputs": [
    {
     "name": "stdout",
     "output_type": "stream",
     "text": [
      "<class 'pandas.core.frame.DataFrame'>\n",
      "RangeIndex: 248083 entries, 0 to 248082\n",
      "Data columns (total 6 columns):\n",
      " #   Column                           Non-Null Count   Dtype\n",
      "---  ------                           --------------   -----\n",
      " 0   PEOPLE_POSITIVE_CASES_COUNT      248083 non-null  int64\n",
      " 1   PEOPLE_DEATH_NEW_COUNT           248083 non-null  int64\n",
      " 2   PEOPLE_POSITIVE_NEW_CASES_COUNT  248083 non-null  int64\n",
      " 3   PEOPLE_DEATH_COUNT               248083 non-null  int64\n",
      " 4   IS_COVID_PRESENT                 248083 non-null  bool \n",
      " 5   ARE_THERE_NEW_COVID_DEATHS       248083 non-null  bool \n",
      "dtypes: bool(2), int64(4)\n",
      "memory usage: 8.0 MB\n"
     ]
    }
   ],
   "source": [
    "# INFORMATION FOR THE FILTERED DATASET\n",
    "df_filtered.info()"
   ]
  },
  {
   "cell_type": "code",
   "execution_count": 13,
   "metadata": {
    "scrolled": true
   },
   "outputs": [
    {
     "name": "stdout",
     "output_type": "stream",
     "text": [
      "        PEOPLE_POSITIVE_CASES_COUNT  PEOPLE_DEATH_NEW_COUNT  \\\n",
      "0                              9271                       0   \n",
      "1                              1517                       1   \n",
      "2                              1522                       0   \n",
      "3                              2418                       1   \n",
      "4                              1756                       0   \n",
      "...                             ...                     ...   \n",
      "248078                          369                       0   \n",
      "248079                         1405                       0   \n",
      "248080                         4329                       0   \n",
      "248081                         5179                       0   \n",
      "248082                         3157                       0   \n",
      "\n",
      "        PEOPLE_POSITIVE_NEW_CASES_COUNT  PEOPLE_DEATH_COUNT  IS_COVID_PRESENT  \\\n",
      "0                                    82                  86                 1   \n",
      "1                                     3                  33                 1   \n",
      "2                                    14                  45                 1   \n",
      "3                                    28                  26                 1   \n",
      "4                                    22                  26                 1   \n",
      "...                                 ...                 ...               ...   \n",
      "248078                                0                   3                 0   \n",
      "248079                                2                  12                 1   \n",
      "248080                               27                  12                 1   \n",
      "248081                                0                  84                 0   \n",
      "248082                                5                  31                 1   \n",
      "\n",
      "        ARE_THERE_NEW_COVID_DEATHS  \n",
      "0                                0  \n",
      "1                                1  \n",
      "2                                0  \n",
      "3                                1  \n",
      "4                                0  \n",
      "...                            ...  \n",
      "248078                           0  \n",
      "248079                           0  \n",
      "248080                           0  \n",
      "248081                           0  \n",
      "248082                           0  \n",
      "\n",
      "[248083 rows x 6 columns]\n"
     ]
    }
   ],
   "source": [
    "# CONVERT THE CATEGORICAL VARIABLES TO DUMMY VARIABLES\n",
    "df_filtered['ARE_THERE_NEW_COVID_DEATHS'] = df_filtered['ARE_THERE_NEW_COVID_DEATHS'].astype(int)\n",
    "df_filtered['IS_COVID_PRESENT'] = df_filtered['IS_COVID_PRESENT'].astype(int)\n",
    "print(df_filtered)"
   ]
  },
  {
   "cell_type": "code",
   "execution_count": 14,
   "metadata": {},
   "outputs": [],
   "source": [
    "# ASSIGN THE TARGET VARIABLE(y) AND FEATURE VARIABLE(x)\n",
    "x = df_filtered.iloc[:,0:3]\n",
    "y = df_filtered.iloc[:, 5]"
   ]
  },
  {
   "cell_type": "code",
   "execution_count": 15,
   "metadata": {
    "scrolled": true
   },
   "outputs": [
    {
     "name": "stdout",
     "output_type": "stream",
     "text": [
      "        PEOPLE_POSITIVE_CASES_COUNT  PEOPLE_DEATH_NEW_COUNT  \\\n",
      "0                              9271                       0   \n",
      "1                              1517                       1   \n",
      "2                              1522                       0   \n",
      "3                              2418                       1   \n",
      "4                              1756                       0   \n",
      "...                             ...                     ...   \n",
      "248078                          369                       0   \n",
      "248079                         1405                       0   \n",
      "248080                         4329                       0   \n",
      "248081                         5179                       0   \n",
      "248082                         3157                       0   \n",
      "\n",
      "        PEOPLE_POSITIVE_NEW_CASES_COUNT  \n",
      "0                                    82  \n",
      "1                                     3  \n",
      "2                                    14  \n",
      "3                                    28  \n",
      "4                                    22  \n",
      "...                                 ...  \n",
      "248078                                0  \n",
      "248079                                2  \n",
      "248080                               27  \n",
      "248081                                0  \n",
      "248082                                5  \n",
      "\n",
      "[248083 rows x 3 columns]\n"
     ]
    }
   ],
   "source": [
    "print(x)"
   ]
  },
  {
   "cell_type": "code",
   "execution_count": 16,
   "metadata": {
    "scrolled": true
   },
   "outputs": [
    {
     "name": "stdout",
     "output_type": "stream",
     "text": [
      "0         0\n",
      "1         1\n",
      "2         0\n",
      "3         1\n",
      "4         0\n",
      "         ..\n",
      "248078    0\n",
      "248079    0\n",
      "248080    0\n",
      "248081    0\n",
      "248082    0\n",
      "Name: ARE_THERE_NEW_COVID_DEATHS, Length: 248083, dtype: int64\n"
     ]
    }
   ],
   "source": [
    "print(y)"
   ]
  },
  {
   "cell_type": "code",
   "execution_count": 12,
   "metadata": {},
   "outputs": [
    {
     "data": {
      "text/plain": [
       "array([[ 0.01130884, -0.11067006,  0.24204903],\n",
       "       [-0.18942544,  0.08610307, -0.13394795],\n",
       "       [-0.189296  , -0.11067006, -0.08159394],\n",
       "       ...,\n",
       "       [-0.11662884, -0.11067006, -0.01972102],\n",
       "       [-0.09462418, -0.11067006, -0.14822631],\n",
       "       [-0.14696939, -0.11067006, -0.12442904]])"
      ]
     },
     "execution_count": 12,
     "metadata": {},
     "output_type": "execute_result"
    }
   ],
   "source": [
    "#SCALE THE DATA BETWEEN 1 AND 0\n",
    "\n",
    "standardScaler = StandardScaler()\n",
    "x = standardScaler.fit_transform(x)\n",
    "x"
   ]
  },
  {
   "cell_type": "code",
   "execution_count": 13,
   "metadata": {},
   "outputs": [
    {
     "data": {
      "text/plain": [
       "array([[ 0.08639834,  0.06838149,  0.24253409],\n",
       "       [-0.13758679, -0.18979688, -0.07927678],\n",
       "       [-0.21908273, -0.06061766,  0.05537745],\n",
       "       ...,\n",
       "       [-0.14119856, -0.01061588,  0.07867233],\n",
       "       [-0.204776  ,  0.01323029, -0.03262496],\n",
       "       [-0.22040832, -0.02682995,  0.00554753]])"
      ]
     },
     "execution_count": 13,
     "metadata": {},
     "output_type": "execute_result"
    }
   ],
   "source": [
    "# PERFORM PCA ON THE DATASET\n",
    "pca = PCA()\n",
    "pca.fit_transform(x)"
   ]
  },
  {
   "cell_type": "code",
   "execution_count": 17,
   "metadata": {},
   "outputs": [],
   "source": [
    "# SPLITTING THE DATASET TO TEST AND TRAIN\n",
    "x_train, x_test, y_train, y_test = train_test_split(x, y, test_size = 0.2, random_state = 42)\n"
   ]
  },
  {
   "cell_type": "code",
   "execution_count": 18,
   "metadata": {},
   "outputs": [
    {
     "name": "stdout",
     "output_type": "stream",
     "text": [
      "x_train:  (198466, 3)\n",
      "x_test:  (49617, 3)\n",
      "y_train:  (198466,)\n",
      "y_test:  (49617,)\n"
     ]
    }
   ],
   "source": [
    "print('x_train: ', x_train.shape)\n",
    "print('x_test: ', x_test.shape)\n",
    "print('y_train: ', y_train.shape)\n",
    "print('y_test: ', y_test.shape)"
   ]
  },
  {
   "cell_type": "code",
   "execution_count": 19,
   "metadata": {},
   "outputs": [],
   "source": [
    "# FUNCTION TO PRINT ALL THE MODEL ACCURACIES THAT WAS CALCULATED DURING GRID SEARCH\n",
    "def print_results(results):\n",
    "    print('BEST PARAMS: {}\\n'.format(results.best_params_))\n",
    "\n",
    "    means = results.cv_results_['mean_test_score']\n",
    "    stds = results.cv_results_['std_test_score']\n",
    "    for mean, std, params in zip(means, stds, results.cv_results_['params']):\n",
    "        print('{} (+/-{}) for {}'.format(round(mean, 3), round(std * 2, 3), params))"
   ]
  },
  {
   "cell_type": "markdown",
   "metadata": {},
   "source": [
    "### LOGISTIC REGRESSION CLASSIFIER"
   ]
  },
  {
   "cell_type": "code",
   "execution_count": 60,
   "metadata": {},
   "outputs": [
    {
     "data": {
      "text/plain": [
       "GridSearchCV(cv=5, estimator=LogisticRegression(), param_grid={'C': [0.001]})"
      ]
     },
     "execution_count": 60,
     "metadata": {},
     "output_type": "execute_result"
    }
   ],
   "source": [
    "# RUNNING THE LOGISTIC REGRESSION CLASSIFIER USING GRID SEARCH\n",
    "lr_classifier = LogisticRegression()\n",
    "parameters = {\n",
    "    'C' : [0.001] #Inverse regularization parameter\n",
    "}\n",
    "cv = GridSearchCV(lr_classifier, parameters, cv = 5) #cv is for k fold cross validation parameter\n",
    "cv.fit(x_train, y_train)\n"
   ]
  },
  {
   "cell_type": "code",
   "execution_count": 61,
   "metadata": {},
   "outputs": [
    {
     "data": {
      "text/plain": [
       "LogisticRegression(C=0.001)"
      ]
     },
     "execution_count": 61,
     "metadata": {},
     "output_type": "execute_result"
    }
   ],
   "source": [
    "# GIVES US THE HYPERPARAMETER SETTINGS WITH BEST ACCURACY SCORE\n",
    "cv.best_estimator_"
   ]
  },
  {
   "cell_type": "code",
   "execution_count": 62,
   "metadata": {},
   "outputs": [
    {
     "name": "stdout",
     "output_type": "stream",
     "text": [
      "Logistic Regression: Accuracy Score -  0.8894733659834331\n"
     ]
    }
   ],
   "source": [
    "# PREDICT THE TARGET VALUE USING THE FITTED LOGISTIC REGRESSION CLASSIFIER\n",
    "y_pred = cv.predict(x_test)\n",
    "print('Logistic Regression: Accuracy Score - ', accuracy_score(y_test, y_pred))"
   ]
  },
  {
   "cell_type": "markdown",
   "metadata": {},
   "source": [
    "### K-NEAREST NEIGHBOR CLASSIFIER"
   ]
  },
  {
   "cell_type": "code",
   "execution_count": 49,
   "metadata": {},
   "outputs": [
    {
     "name": "stdout",
     "output_type": "stream",
     "text": [
      "Fitting 5 folds for each of 1 candidates, totalling 5 fits\n"
     ]
    },
    {
     "name": "stderr",
     "output_type": "stream",
     "text": [
      "[Parallel(n_jobs=-1)]: Using backend LokyBackend with 8 concurrent workers.\n",
      "[Parallel(n_jobs=-1)]: Done   2 out of   5 | elapsed:   58.1s remaining:  1.5min\n",
      "[Parallel(n_jobs=-1)]: Done   5 out of   5 | elapsed:   59.7s finished\n"
     ]
    },
    {
     "data": {
      "text/plain": [
       "GridSearchCV(cv=5, estimator=KNeighborsClassifier(), n_jobs=-1,\n",
       "             param_grid={'n_neighbors': [5]}, scoring='accuracy', verbose=1)"
      ]
     },
     "execution_count": 49,
     "metadata": {},
     "output_type": "execute_result"
    }
   ],
   "source": [
    "# RUN THE K NEAREST NEIGHBOR CLASSIFIER ON THE DATASET\n",
    "knn_classifier = KNeighborsClassifier()\n",
    "parameters = {\n",
    "    'n_neighbors':[5] #no of neighbors\n",
    "}\n",
    "cv_knn = GridSearchCV(knn_classifier, parameters, cv = 5, scoring='accuracy', n_jobs=-1, verbose=1)\n",
    "cv_knn.fit(x_train, y_train)\n"
   ]
  },
  {
   "cell_type": "code",
   "execution_count": 50,
   "metadata": {},
   "outputs": [
    {
     "name": "stdout",
     "output_type": "stream",
     "text": [
      "K-Nearest Neighbor: Accuracy Score -  0.9995364492008787\n"
     ]
    }
   ],
   "source": [
    "#PREDICT THE ACCURACY SCORE USING THE FITTED KNN CLASSIFIER \n",
    "y_pred = cv_knn.predict(x_test)\n",
    "print('K-Nearest Neighbor: Accuracy Score - ', accuracy_score(y_test, y_pred))"
   ]
  },
  {
   "cell_type": "markdown",
   "metadata": {},
   "source": [
    "#### KNN on the non-PCA dataset"
   ]
  },
  {
   "cell_type": "code",
   "execution_count": 22,
   "metadata": {},
   "outputs": [
    {
     "name": "stdout",
     "output_type": "stream",
     "text": [
      "Fitting 5 folds for each of 1 candidates, totalling 5 fits\n"
     ]
    },
    {
     "name": "stderr",
     "output_type": "stream",
     "text": [
      "[Parallel(n_jobs=-1)]: Using backend LokyBackend with 8 concurrent workers.\n",
      "[Parallel(n_jobs=-1)]: Done   2 out of   5 | elapsed:    5.7s remaining:    8.6s\n",
      "[Parallel(n_jobs=-1)]: Done   5 out of   5 | elapsed:    5.9s finished\n"
     ]
    },
    {
     "data": {
      "text/plain": [
       "GridSearchCV(cv=5, estimator=KNeighborsClassifier(), n_jobs=-1,\n",
       "             param_grid={'n_neighbors': [5]}, scoring='accuracy', verbose=1)"
      ]
     },
     "execution_count": 22,
     "metadata": {},
     "output_type": "execute_result"
    }
   ],
   "source": [
    "# RUN THE KNN CLASSIFIER ON NON SCALED DATASET TO CHECK FOR BETTER ACCURACY\n",
    "knn_classifier = KNeighborsClassifier()\n",
    "parameters = {\n",
    "    'n_neighbors':[5]\n",
    "}\n",
    "cv_knn = GridSearchCV(knn_classifier, parameters, cv = 5, scoring='accuracy', n_jobs=-1, verbose=1)\n",
    "cv_knn.fit(x_train, y_train)"
   ]
  },
  {
   "cell_type": "code",
   "execution_count": 28,
   "metadata": {},
   "outputs": [
    {
     "name": "stdout",
     "output_type": "stream",
     "text": [
      "BEST PARAMS: {'n_neighbors': 5}\n",
      "\n",
      "0.852 (+/-0.003) for {'n_neighbors': 5}\n"
     ]
    }
   ],
   "source": [
    "print_results(cv_knn)"
   ]
  },
  {
   "cell_type": "code",
   "execution_count": 32,
   "metadata": {},
   "outputs": [
    {
     "name": "stdout",
     "output_type": "stream",
     "text": [
      "              precision    recall  f1-score   support\n",
      "\n",
      "           0       0.88      0.95      0.92     41118\n",
      "           1       0.62      0.38      0.47      8499\n",
      "\n",
      "    accuracy                           0.85     49617\n",
      "   macro avg       0.75      0.66      0.69     49617\n",
      "weighted avg       0.84      0.85      0.84     49617\n",
      "\n"
     ]
    }
   ],
   "source": [
    "# GENERATE A CLASSIFICATION REPORT TO CHECK FOR PRECISION, ACCURACY AND RECALL VALUES\n",
    "y_pred = cv_knn.predict(x_test)\n",
    "print(classification_report(y_test,y_pred))"
   ]
  },
  {
   "cell_type": "code",
   "execution_count": null,
   "metadata": {},
   "outputs": [],
   "source": []
  },
  {
   "cell_type": "markdown",
   "metadata": {},
   "source": [
    "### KERNEL SUPPORT VECTOR MACHINE CLASSIFIER"
   ]
  },
  {
   "cell_type": "code",
   "execution_count": 84,
   "metadata": {},
   "outputs": [
    {
     "data": {
      "text/plain": [
       "GridSearchCV(cv=5, estimator=SVC(random_state=0),\n",
       "             param_grid={'C': [0.001, 0.01, 0.1, 1, 10, 100]})"
      ]
     },
     "execution_count": 84,
     "metadata": {},
     "output_type": "execute_result"
    }
   ],
   "source": [
    "# RUN THE DATASET ON KERNEL(RBF) SUPPORT VECTOR MACHINE\n",
    "svc_classifier = SVC(kernel = 'rbf', random_state = 0)\n",
    "parameter = {\n",
    "    'C' : [0.001, 0.01, 0.1, 1, 10, 100]\n",
    "}\n",
    "cv_svc = GridSearchCV(svc_classifier, parameter , cv=5)\n",
    "cv_svc.fit(x_train,y_train)\n"
   ]
  },
  {
   "cell_type": "code",
   "execution_count": 87,
   "metadata": {},
   "outputs": [
    {
     "name": "stdout",
     "output_type": "stream",
     "text": [
      "SUPPORT VECTOR MACHINE CLASSIFIER: Accuracy Score -  0.9998186105568656\n"
     ]
    }
   ],
   "source": [
    "y_pred = cv_svc.predict(x_test)\n",
    "print('SUPPORT VECTOR MACHINE CLASSIFIER: Accuracy Score - ', accuracy_score(y_test, y_pred))"
   ]
  },
  {
   "cell_type": "markdown",
   "metadata": {},
   "source": [
    "#### SVM(kernel) on the non-PCA dataset"
   ]
  },
  {
   "cell_type": "code",
   "execution_count": null,
   "metadata": {},
   "outputs": [
    {
     "name": "stdout",
     "output_type": "stream",
     "text": [
      "Fitting 5 folds for each of 12 candidates, totalling 60 fits\n"
     ]
    },
    {
     "name": "stderr",
     "output_type": "stream",
     "text": [
      "[Parallel(n_jobs=-1)]: Using backend LokyBackend with 8 concurrent workers.\n",
      "[Parallel(n_jobs=-1)]: Done  34 tasks      | elapsed: 2449.3min\n"
     ]
    }
   ],
   "source": [
    "from sklearn.svm import SVC\n",
    "\n",
    "svc_classifier = SVC(random_state = 0)\n",
    "parameter = {\n",
    "    'kernel' : ['linear', 'rbf'],\n",
    "    'C' : [0.001, 0.01, 0.1, 1, 10, 100]\n",
    "}\n",
    "cv_svc = GridSearchCV(svc_classifier, parameter , cv=5, scoring='accuracy', verbose=1, n_jobs = -1)\n",
    "cv_svc.fit(x_train,y_train)\n"
   ]
  },
  {
   "cell_type": "code",
   "execution_count": null,
   "metadata": {},
   "outputs": [],
   "source": [
    "print_results(cv_svc)"
   ]
  },
  {
   "cell_type": "code",
   "execution_count": null,
   "metadata": {},
   "outputs": [],
   "source": [
    "y_pred = cv_svc.predict(x_test)\n",
    "print(classification_report(y_test,y_pred))"
   ]
  },
  {
   "cell_type": "code",
   "execution_count": null,
   "metadata": {},
   "outputs": [],
   "source": []
  },
  {
   "cell_type": "markdown",
   "metadata": {},
   "source": [
    "### DECISION TREE CLASSIFIER"
   ]
  },
  {
   "cell_type": "code",
   "execution_count": 36,
   "metadata": {},
   "outputs": [
    {
     "name": "stdout",
     "output_type": "stream",
     "text": [
      "Fitting 3 folds for each of 4 candidates, totalling 12 fits\n"
     ]
    },
    {
     "name": "stderr",
     "output_type": "stream",
     "text": [
      "[Parallel(n_jobs=-1)]: Using backend LokyBackend with 8 concurrent workers.\n",
      "[Parallel(n_jobs=-1)]: Done  10 out of  12 | elapsed:    0.4s remaining:    0.1s\n",
      "[Parallel(n_jobs=-1)]: Done  12 out of  12 | elapsed:    0.5s finished\n"
     ]
    },
    {
     "data": {
      "text/plain": [
       "GridSearchCV(cv=3, estimator=DecisionTreeClassifier(random_state=42), n_jobs=-1,\n",
       "             param_grid={'criterion': ['entropy'], 'max_depth': [15],\n",
       "                         'min_samples_leaf': [1, 2, 3, 4],\n",
       "                         'min_samples_split': [4], 'splitter': ['random']},\n",
       "             scoring='accuracy', verbose=1)"
      ]
     },
     "execution_count": 36,
     "metadata": {},
     "output_type": "execute_result"
    }
   ],
   "source": [
    "# RUN THE DECISION TREE CLASSIFIER ON THE TEST AND TRAIN DATASET\n",
    "parameters = {\n",
    "    'criterion':[\"entropy\"], \n",
    "    'splitter':[\"random\"], \n",
    "    'max_depth':[15], \n",
    "    'min_samples_split':[4], \n",
    "    'min_samples_leaf':list(range(1, 5)), \n",
    "}\n",
    "\n",
    "dt_classifier = DecisionTreeClassifier(random_state = 42)\n",
    "cv_dt = GridSearchCV(dt_classifier, parameters,scoring='accuracy', n_jobs=-1, verbose=1, cv=3)\n",
    "cv_dt.fit(x_train, y_train)\n"
   ]
  },
  {
   "cell_type": "code",
   "execution_count": 38,
   "metadata": {},
   "outputs": [
    {
     "data": {
      "text/plain": [
       "DecisionTreeClassifier(criterion='entropy', max_depth=15, min_samples_leaf=2,\n",
       "                       min_samples_split=4, random_state=42, splitter='random')"
      ]
     },
     "execution_count": 38,
     "metadata": {},
     "output_type": "execute_result"
    }
   ],
   "source": [
    "cv_dt.best_estimator_"
   ]
  },
  {
   "cell_type": "code",
   "execution_count": 39,
   "metadata": {},
   "outputs": [
    {
     "name": "stdout",
     "output_type": "stream",
     "text": [
      "DECISION TREE CLASSIFIER: Accuracy Score -  0.941874760666707\n"
     ]
    }
   ],
   "source": [
    "y_pred = cv_dt.predict(x_test)\n",
    "print('DECISION TREE CLASSIFIER: Accuracy Score - ', accuracy_score(y_test, y_pred))"
   ]
  },
  {
   "cell_type": "markdown",
   "metadata": {},
   "source": [
    "#### Decion Tree Classifier on the non-PCA dataset"
   ]
  },
  {
   "cell_type": "code",
   "execution_count": null,
   "metadata": {},
   "outputs": [],
   "source": [
    "# RUN THE DECISION TREE CLASSIFIER ON THE TEST AND TRAIN DATASET\n",
    "parameters = {\n",
    "    'criterion':[\"entropy\"], \n",
    "    'splitter':[\"random\"], \n",
    "    'max_depth':[15], \n",
    "    'min_samples_split':[4], \n",
    "    'min_samples_leaf':list(range(1, 5)), \n",
    "}\n",
    "\n",
    "dt_classifier = DecisionTreeClassifier(random_state = 42)\n",
    "cv_dt = GridSearchCV(dt_classifier, parameters,scoring='accuracy', n_jobs=-1, verbose=1, cv=3)\n",
    "cv_dt.fit(x_train, y_train)\n"
   ]
  },
  {
   "cell_type": "code",
   "execution_count": null,
   "metadata": {},
   "outputs": [],
   "source": [
    "print_results(cv_dt)"
   ]
  },
  {
   "cell_type": "code",
   "execution_count": null,
   "metadata": {},
   "outputs": [],
   "source": [
    "y_pred = cv_dt.predict(x_test)\n",
    "print(classification_report(y_test,y_pred))"
   ]
  },
  {
   "cell_type": "markdown",
   "metadata": {},
   "source": [
    "### RANDOM FOREST CLASSIFER"
   ]
  },
  {
   "cell_type": "code",
   "execution_count": 41,
   "metadata": {},
   "outputs": [
    {
     "name": "stdout",
     "output_type": "stream",
     "text": [
      "Fitting 5 folds for each of 288 candidates, totalling 1440 fits\n"
     ]
    },
    {
     "name": "stderr",
     "output_type": "stream",
     "text": [
      "[Parallel(n_jobs=-1)]: Using backend LokyBackend with 8 concurrent workers.\n",
      "[Parallel(n_jobs=-1)]: Done  34 tasks      | elapsed:  3.1min\n",
      "[Parallel(n_jobs=-1)]: Done 184 tasks      | elapsed: 18.2min\n",
      "[Parallel(n_jobs=-1)]: Done 434 tasks      | elapsed: 45.7min\n",
      "[Parallel(n_jobs=-1)]: Done 784 tasks      | elapsed: 90.0min\n",
      "[Parallel(n_jobs=-1)]: Done 1234 tasks      | elapsed: 148.8min\n",
      "[Parallel(n_jobs=-1)]: Done 1440 out of 1440 | elapsed: 175.9min finished\n"
     ]
    },
    {
     "data": {
      "text/plain": [
       "GridSearchCV(cv=5, estimator=RandomForestClassifier(random_state=42), n_jobs=-1,\n",
       "             param_grid={'max_depth': [2, 3, 5],\n",
       "                         'max_features': ['auto', 'sqrt'],\n",
       "                         'min_samples_leaf': [1, 2, 4, 10],\n",
       "                         'min_samples_split': [2, 5, 10],\n",
       "                         'n_estimators': [100, 500, 1000, 2000]},\n",
       "             verbose=1)"
      ]
     },
     "execution_count": 41,
     "metadata": {},
     "output_type": "execute_result"
    }
   ],
   "source": [
    "# RUN THE RANDOM FOREST CLASSIFIER ON THE TEST AND TRAIN DATASET\n",
    "parameters = {\n",
    "    'n_estimators' : [100,500,1000,2000],\n",
    "    'max_features' : ['auto', 'sqrt'],\n",
    "    'max_depth' : [2,3,5],\n",
    "    'min_samples_split' : [2,5,10],\n",
    "    'min_samples_leaf' : [1,2,4,10],\n",
    "}\n",
    "\n",
    "rf_classifer = RandomForestClassifier(random_state=42)\n",
    "cv_rf = GridSearchCV(rf_classifer, parameters, cv=5, verbose =1, n_jobs=-1)\n",
    "cv_rf.fit(x_train, y_train)\n"
   ]
  },
  {
   "cell_type": "code",
   "execution_count": 43,
   "metadata": {},
   "outputs": [
    {
     "name": "stdout",
     "output_type": "stream",
     "text": [
      "DECISION TREE CLASSIFIER: Accuracy Score -  1.0\n"
     ]
    }
   ],
   "source": [
    "y_pred = cv_rf.predict(x_test)\n",
    "print('DECISION TREE CLASSIFIER: Accuracy Score - ', accuracy_score(y_test, y_pred))"
   ]
  },
  {
   "cell_type": "code",
   "execution_count": null,
   "metadata": {},
   "outputs": [],
   "source": [
    "# Random Forest Classifier on a non-PCA dataset"
   ]
  },
  {
   "cell_type": "code",
   "execution_count": null,
   "metadata": {},
   "outputs": [],
   "source": [
    "# RUN THE RANDOM FOREST CLASSIFIER ON THE NON-SCALED DATASET\n",
    "parameters = {\n",
    "    'n_estimators' : [100,500,1000,2000],\n",
    "    'max_features' : ['auto', 'sqrt'],\n",
    "    'max_depth' : [2,3,5],\n",
    "    'min_samples_split' : [2,5,10],\n",
    "    'min_samples_leaf' : [1,2,4,10],\n",
    "}\n",
    "\n",
    "rf_classifer = RandomForestClassifier(random_state=42)\n",
    "cv_rf = GridSearchCV(rf_classifer, parameters, cv=5, verbose =1, n_jobs=-1)\n",
    "cv_rf.fit(x_train, y_train)\n"
   ]
  },
  {
   "cell_type": "code",
   "execution_count": null,
   "metadata": {},
   "outputs": [],
   "source": [
    "print_result(cv_rf)"
   ]
  },
  {
   "cell_type": "code",
   "execution_count": null,
   "metadata": {},
   "outputs": [],
   "source": [
    "y_pred = cv_rf.predict(x_test)\n",
    "print(classification_report(y_test,y_pred))"
   ]
  },
  {
   "cell_type": "markdown",
   "metadata": {},
   "source": [
    "### ENSEMBLING METHOD: ADABOOST ALGORITHM"
   ]
  },
  {
   "cell_type": "code",
   "execution_count": 77,
   "metadata": {},
   "outputs": [
    {
     "name": "stdout",
     "output_type": "stream",
     "text": [
      "Fitting 5 folds for each of 24 candidates, totalling 120 fits\n"
     ]
    },
    {
     "name": "stderr",
     "output_type": "stream",
     "text": [
      "[Parallel(n_jobs=-1)]: Using backend LokyBackend with 8 concurrent workers.\n",
      "[Parallel(n_jobs=-1)]: Done  34 tasks      | elapsed:    3.0s\n",
      "[Parallel(n_jobs=-1)]: Done 120 out of 120 | elapsed:    5.7s finished\n"
     ]
    },
    {
     "data": {
      "text/plain": [
       "GridSearchCV(cv=5, estimator=AdaBoostClassifier(random_state=42), n_jobs=-1,\n",
       "             param_grid={'learning_rate': [0.1, 1, 0.01, 0.5],\n",
       "                         'n_estimators': [100, 120, 140, 160, 180, 200]},\n",
       "             verbose=1)"
      ]
     },
     "execution_count": 77,
     "metadata": {},
     "output_type": "execute_result"
    }
   ],
   "source": [
    "# USE THE ENSEMBLING TECHNIQUES TO BOOST THE ACCURACY SCORE\n",
    "adaboost_clf = AdaBoostClassifier(random_state=42)\n",
    "parameters = {\n",
    "    'learning_rate' : [0.1,1,0.01,0.5],\n",
    "    'n_estimators' : [100,120,140,160,180, 200]\n",
    "}\n",
    "cv_adaboost = GridSearchCV(adaboost_clf, parameters, cv = 5, n_jobs=-1, verbose=1)\n",
    "cv_adaboost.fit(x_train, y_train)\n"
   ]
  },
  {
   "cell_type": "code",
   "execution_count": 78,
   "metadata": {},
   "outputs": [
    {
     "name": "stdout",
     "output_type": "stream",
     "text": [
      "ADABOOST CLASSIFIER: Accuracy Score -  1.0\n"
     ]
    }
   ],
   "source": [
    "y_pred = cv_adaboost.predict(x_test)\n",
    "print('ADABOOST CLASSIFIER: Accuracy Score - ', accuracy_score(y_test, y_pred))"
   ]
  },
  {
   "cell_type": "code",
   "execution_count": null,
   "metadata": {},
   "outputs": [],
   "source": [
    "# Adaboost on a non-PCA dataset"
   ]
  },
  {
   "cell_type": "code",
   "execution_count": null,
   "metadata": {},
   "outputs": [],
   "source": [
    "# USING THE ADABOOST ENSEMBLE TECHNIQUE TO BOOST THE ACCURACY SCORE USING THE NON-SCALED DATASET\n",
    "adaboost_clf = AdaBoostClassifier(random_state=42)\n",
    "parameters = {\n",
    "    'learning_rate' : [0.1,1,0.01,0.5],\n",
    "    'n_estimators' : [100,120,140,160,180, 200]\n",
    "}\n",
    "cv_adaboost = GridSearchCV(adaboost_clf, parameters, cv = 5, n_jobs=-1, verbose=1)\n",
    "cv_adaboost.fit(x_train, y_train)"
   ]
  },
  {
   "cell_type": "code",
   "execution_count": null,
   "metadata": {},
   "outputs": [],
   "source": [
    "print_result(cv_adaboost)"
   ]
  },
  {
   "cell_type": "code",
   "execution_count": null,
   "metadata": {},
   "outputs": [],
   "source": [
    "y_pred = cv_adaboost.predict(x_test)\n",
    "print(classification_report(y_test,y_pred))"
   ]
  },
  {
   "cell_type": "code",
   "execution_count": null,
   "metadata": {},
   "outputs": [],
   "source": []
  },
  {
   "cell_type": "code",
   "execution_count": null,
   "metadata": {},
   "outputs": [],
   "source": []
  }
 ],
 "metadata": {
  "kernelspec": {
   "display_name": "Python 3",
   "language": "python",
   "name": "python3"
  },
  "language_info": {
   "codemirror_mode": {
    "name": "ipython",
    "version": 3
   },
   "file_extension": ".py",
   "mimetype": "text/x-python",
   "name": "python",
   "nbconvert_exporter": "python",
   "pygments_lexer": "ipython3",
   "version": "3.8.3"
  }
 },
 "nbformat": 4,
 "nbformat_minor": 4
}
